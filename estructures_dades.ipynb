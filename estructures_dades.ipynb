{
 "cells": [
  {
   "cell_type": "code",
   "execution_count": 26,
   "metadata": {},
   "outputs": [
    {
     "name": "stdout",
     "output_type": "stream",
     "text": [
      "Febrer\n",
      "['Gener', 'Febrer', 'Març']\n",
      "Septembre  i  Octubre\n"
     ]
    }
   ],
   "source": [
    "'''Crea un codi que et permeti accedir a:\n",
    "\n",
    "El segon més del primer trimestre\n",
    "Els mesos del primer trimestre\n",
    "Setembre i octubre'''\n",
    "\n",
    "T1 = ['Gener','Febrer','Març']\n",
    "T2 = ['Abril','Maig','Juny']\n",
    "T3 = ['Juliol','Agost','Septembre']\n",
    "T4 = ['Octubre','Novembre','Desembre']\n",
    "print(T1[1])\n",
    "print(T1)\n",
    "print(T3[2],\" i \",T4[0])"
   ]
  },
  {
   "cell_type": "code",
   "execution_count": 11,
   "metadata": {},
   "outputs": [
    {
     "name": "stdout",
     "output_type": "stream",
     "text": [
      "10\n"
     ]
    }
   ],
   "source": [
    "'''Crea una llista amb nombres desordenats i respon a les següents preguntes:\n",
    "\n",
    "Quants números hi ha?\n",
    "\n",
    "'''\n",
    "\n",
    "llista = [1,3,34,45,50,11,34,29,18,8]\n",
    "print(len(llista))"
   ]
  },
  {
   "cell_type": "code",
   "execution_count": 17,
   "metadata": {},
   "outputs": [
    {
     "name": "stdout",
     "output_type": "stream",
     "text": [
      "1\n"
     ]
    }
   ],
   "source": [
    "'''Crea una llista amb nombres desordenats i respon a les següents preguntes:\n",
    "\n",
    "\n",
    "Quantes vegades apareix el número 3\n",
    "\n",
    "'''\n",
    "llista = [1,3,34,45,50,11,34,29,18,8]\n",
    "if 3 in llista:\n",
    "  print(len('3'))"
   ]
  },
  {
   "cell_type": "code",
   "execution_count": 19,
   "metadata": {},
   "outputs": [
    {
     "ename": "SyntaxError",
     "evalue": "invalid syntax (<ipython-input-19-f1b72dac485c>, line 2)",
     "output_type": "error",
     "traceback": [
      "\u001b[0;36m  File \u001b[0;32m\"<ipython-input-19-f1b72dac485c>\"\u001b[0;36m, line \u001b[0;32m2\u001b[0m\n\u001b[0;31m    print(len('3'&&'4'))\u001b[0m\n\u001b[0m                  ^\u001b[0m\n\u001b[0;31mSyntaxError\u001b[0m\u001b[0;31m:\u001b[0m invalid syntax\n"
     ]
    }
   ],
   "source": [
    "'''Crea una llista amb nombres desordenats i respon a les següents preguntes:\n",
    "\n",
    "Quantes vegades apareixen els nombres 3 i 4?\n",
    "\n",
    "'''\n",
    "llista = [1,3,34,45,50,11,34,29,18,8]\n",
    "print(len('3'&&'4'))"
   ]
  },
  {
   "cell_type": "code",
   "execution_count": 20,
   "metadata": {},
   "outputs": [
    {
     "name": "stdout",
     "output_type": "stream",
     "text": [
      "50\n"
     ]
    }
   ],
   "source": [
    "'''Crea una llista amb nombres desordenats i respon a les següents preguntes:\n",
    "\n",
    "Quin és el número més gran?\n",
    "\n",
    "'''\n",
    "llista = [1,3,34,45,50,11,34,29,18,8]\n",
    "llista.sort()\n",
    "print(llista[-1])"
   ]
  },
  {
   "cell_type": "code",
   "execution_count": 24,
   "metadata": {},
   "outputs": [
    {
     "name": "stdout",
     "output_type": "stream",
     "text": [
      "[1, 3, 8]\n"
     ]
    }
   ],
   "source": [
    "'''Crea una llista amb nombres desordenats i respon a les següents preguntes:\n",
    "\n",
    "Quins són els 3 números més petits?\n",
    "'''\n",
    "llista = [1,3,34,45,50,11,34,29,18,8]\n",
    "llista.sort()\n",
    "print(llista[0:3])"
   ]
  },
  {
   "cell_type": "code",
   "execution_count": 25,
   "metadata": {},
   "outputs": [
    {
     "name": "stdout",
     "output_type": "stream",
     "text": [
      "49\n"
     ]
    }
   ],
   "source": [
    "'''Crea una llista amb nombres desordenats i respon a les següents preguntes:\n",
    "\n",
    "Quin és el rang d’aquesta llista?\n",
    "'''\n",
    "\n",
    "llista = [1,3,34,45,50,11,34,29,18,8]\n",
    "llista.sort()\n",
    "x = llista[-1]\n",
    "y = llista[0]\n",
    "print(x-y)"
   ]
  },
  {
   "cell_type": "code",
   "execution_count": 99,
   "metadata": {},
   "outputs": [
    {
     "name": "stdout",
     "output_type": "stream",
     "text": [
      "1.98\n",
      "9\n",
      "Mandarines\n"
     ]
    }
   ],
   "source": [
    "'''Crea un diccionari de la següent forma i respon a les preguntes:\n",
    "\n",
    "compra = { \"Pomes\" : {\"Qty\": 5, \"€\": 0.42}, \"Peres\" : {\"Qty\": 3, \"€\": 0.66} }\n",
    "\n",
    "Afegeix alguna fruita més\n",
    "Quant han costat les peres en total?\n",
    "Quantes fruites hem comprat en total?\n",
    "Quina és la fruita més cara?'''\n",
    "\n",
    "compra = { \"Pomes\" : {\"Qty\": 5, \"€\": 0.42}, \"Peres\" : {\"Qty\": 3, \"€\": 0.66} }\n",
    "#codi: afegir una fruita més\n",
    "compra.update({\"Mandarines\" : {\"Qty\": 1, \"€\": 0.70}}) \n",
    "\n",
    "\n",
    "#codi: preu de les peres en total\n",
    "compra = { \"Pomes\" : {\"Qty\": 5, \"€\": 0.42}, \"Peres\" : {\"Qty\": 3, \"€\": 0.66} }\n",
    "compra.update({\"Mandarines\" : {\"Qty\": 1, \"€\": 0.70}}) \n",
    "x = compra[\"Peres\"][\"Qty\"]\n",
    "y = compra[\"Peres\"][\"€\"]\n",
    "print(x*y)\n",
    "\n",
    "\n",
    "#codi: quantes fruites hem comprat en total\n",
    "compra = { \"Pomes\" : {\"Qty\": 5, \"€\": 0.42}, \"Peres\" : {\"Qty\": 3, \"€\": 0.66} }\n",
    "compra.update({\"Mandarines\" : {\"Qty\": 1, \"€\": 0.70}}) \n",
    "x = compra[\"Peres\"][\"Qty\"]\n",
    "y = compra[\"Mandarines\"][\"Qty\"]\n",
    "z = compra[\"Pomes\"][\"Qty\"]\n",
    "print(x+y+z)\n",
    "\n",
    "#codi: quina és la fruita més cara\n",
    "compra = { \"Pomes\" : {\"Qty\": 5, \"€\": 0.42}, \"Peres\" : {\"Qty\": 3, \"€\": 0.66} }\n",
    "compra.update({\"Mandarines\" : {\"Qty\": 1, \"€\": 0.70}}) \n",
    "x = compra[\"Peres\"][\"€\"]\n",
    "y = compra[\"Mandarines\"][\"€\"]\n",
    "z = compra[\"Pomes\"][\"€\"]\n",
    "if (x <= y) & (y <= z):\n",
    "    print(\"Pomes\")\n",
    "elif (x <= y) & (y >= z): \n",
    "    print(\"Mandarines\")\n",
    "else:\n",
    "    print(\"Peres\")"
   ]
  },
  {
   "cell_type": "code",
   "execution_count": null,
   "metadata": {},
   "outputs": [],
   "source": []
  },
  {
   "cell_type": "code",
   "execution_count": null,
   "metadata": {},
   "outputs": [],
   "source": []
  },
  {
   "cell_type": "code",
   "execution_count": null,
   "metadata": {},
   "outputs": [],
   "source": []
  },
  {
   "cell_type": "code",
   "execution_count": null,
   "metadata": {},
   "outputs": [],
   "source": []
  }
 ],
 "metadata": {
  "kernelspec": {
   "display_name": "Python 3",
   "language": "python",
   "name": "python3"
  },
  "language_info": {
   "codemirror_mode": {
    "name": "ipython",
    "version": 3
   },
   "file_extension": ".py",
   "mimetype": "text/x-python",
   "name": "python",
   "nbconvert_exporter": "python",
   "pygments_lexer": "ipython3",
   "version": "3.8.5"
  }
 },
 "nbformat": 4,
 "nbformat_minor": 4
}
